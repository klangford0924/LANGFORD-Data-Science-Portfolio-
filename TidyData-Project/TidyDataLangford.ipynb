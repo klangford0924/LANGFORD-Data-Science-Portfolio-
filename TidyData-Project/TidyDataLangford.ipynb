{
 "cells": [
  {
   "cell_type": "markdown",
   "metadata": {},
   "source": [
    "## Tidy Data Project\n",
    "Here is what is in this notebook:\n",
    "1. Data Cleaning \n",
    "2. Aggreagate Function (Average Spending 1976-Present)\n",
    "3. Data Vis 1 (Bar Graph of Average Spending 1976-Present)\n",
    "4. Data Vis 2 (Spending over time)\n"
   ]
  },
  {
   "cell_type": "markdown",
   "metadata": {},
   "source": [
    "### 1. Data Cleaning\n",
    "\n",
    "In this step, we are tidying the data to fit our needs.  Following the principles of tidy data, we will create a table in which each observation will have its own row and label the department, value, year, and gdp in that observation. We will also make sure the data types are correct to do later calculations. Finally, we will create a table \"for aggregation\" that drops NAs. We can use this table when we need the data to be aggregated (means, addition etc.)"
   ]
  },
  {
   "cell_type": "code",
   "execution_count": null,
   "metadata": {},
   "outputs": [],
   "source": [
    "import pandas as pd\n",
    "\n",
    "##Load the dataset with your correct file pathway\n",
    "df = pd.read_csv(\"put file pathway here\")\n",
    "\n",
    "##Let's tidy the data set to create visualizations \n",
    "\n",
    "#first, the function melt\n",
    "tidy_df = df.melt(id_vars=['department'], var_name='year_gdp', value_name='value')\n",
    "\n",
    "# split the 'year_gdp' column into 'year' and 'gdp' and drop the original column\n",
    "tidy_df[['year', 'gdp']] = tidy_df['year_gdp'].str.split('_gdp', expand=True)\n",
    "tidy_df.drop(columns=['year_gdp'], inplace=True)\n",
    "\n",
    "# change data types (year to an integer and gdp to a float)\n",
    "tidy_df['year'] = tidy_df['year'].astype(int)\n",
    "\n",
    "#see results\n",
    "print(tidy_df)\n",
    "\n",
    "# Drop missing values for future visualizations \n",
    "tidy_df_foraggregation = tidy_df.dropna()"
   ]
  },
  {
   "cell_type": "markdown",
   "metadata": {},
   "source": [
    "### 2. Aggregate Function\n",
    "We will use \"for aggregation\" here so we can take the mean of every department. "
   ]
  },
  {
   "cell_type": "code",
   "execution_count": null,
   "metadata": {},
   "outputs": [],
   "source": [
    "# Calculate the mean spending for each department from 1976 till now\n",
    "mean_spending = tidy_df_foraggregation.groupby('department')['value'].mean()\n",
    "\n",
    "# Display the mean spending\n",
    "print(mean_spending)\n"
   ]
  },
  {
   "cell_type": "markdown",
   "metadata": {},
   "source": [
    "### 3. Data Vis 1: (Mean Federal Spending from 1976-Present)\n",
    "Using the table we just made of the means, we can now make a bar graph of that set of information. "
   ]
  },
  {
   "cell_type": "code",
   "execution_count": null,
   "metadata": {},
   "outputs": [],
   "source": [
    "import matplotlib.pyplot as plt\n",
    "import seaborn as sns\n",
    "from matplotlib.ticker import FuncFormatter as ff\n",
    "\n",
    "plt.figure(figsize=(12, 6))\n",
    "sns.barplot(x=mean_spending.values, y=mean_spending.index, palette='viridis')\n",
    "plt.title('Mean Federal R&D Spending by Department (1976 - Present)')\n",
    "plt.xlabel('Mean Spending ($)')\n",
    "plt.gca().xaxis.set_major_formatter(ff(lambda x, _: f'{x:.1e}'))\n",
    "plt.ylabel('Department')\n",
    "plt.show()"
   ]
  },
  {
   "cell_type": "markdown",
   "metadata": {},
   "source": [
    "### 4. Data Vis 2: Spending Over Time\n",
    "Now lets go back to the original table to see how the spending has changed over time. "
   ]
  },
  {
   "cell_type": "code",
   "execution_count": null,
   "metadata": {},
   "outputs": [],
   "source": [
    "import matplotlib.pyplot as plt\n",
    "import seaborn as sns\n",
    "from matplotlib.ticker import FuncFormatter as ff\n",
    "\n",
    "# Line plot of spending over time by department\n",
    "sns.set_theme(style=\"whitegrid\")\n",
    "plt.figure(figsize=(14, 8))\n",
    "sns.lineplot(data=tidy_df_foraggregation, x='year', y='value', hue='department', marker='o')\n",
    "\n",
    "# Add labels and title\n",
    "plt.title('Federal R&D Spending Over Time by Department (1976 - Present)')\n",
    "plt.xlabel('Year'yn\n",
    "plt.ylabel('Spending ($)')\n",
    "plt.gca().yaxis.set_major_formatter(ff(lambda x, _: f'{x:.1e}'))\n",
    "plt.legend(title='Department', bbox_to_anchor=(1.05, 1), loc='upper left')\n",
    "\n",
    "# Show the plot\n",
    "plt.show()"
   ]
  }
 ],
 "metadata": {
  "kernelspec": {
   "display_name": "base",
   "language": "python",
   "name": "python3"
  },
  "language_info": {
   "codemirror_mode": {
    "name": "ipython",
    "version": 3
   },
   "file_extension": ".py",
   "mimetype": "text/x-python",
   "name": "python",
   "nbconvert_exporter": "python",
   "pygments_lexer": "ipython3",
   "version": "3.12.7"
  }
 },
 "nbformat": 4,
 "nbformat_minor": 2
}
